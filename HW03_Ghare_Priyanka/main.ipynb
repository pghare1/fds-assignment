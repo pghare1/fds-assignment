{
 "cells": [
  {
   "cell_type": "code",
   "execution_count": 31,
   "metadata": {},
   "outputs": [],
   "source": [
    "import numpy as np\n",
    "import pandas as pd\n",
    "from sklearn.linear_model import LinearRegression\n",
    "import sys\n",
    "import util"
   ]
  },
  {
   "cell_type": "code",
   "execution_count": 39,
   "metadata": {},
   "outputs": [
    {
     "name": "stdout",
     "output_type": "stream",
     "text": [
      "R2 = 0.875699\n",
      "[ 3.23628527e+04  8.56087724e+01  2.72626608e+00  5.91950710e+04\n",
      "  9.59924331e+03 -1.74218355e+04]\n",
      "0.0\n"
     ]
    }
   ],
   "source": [
    "#read properties.xlsx file\n",
    "df = pd.read_excel('properties.xlsx', index_col=0)\n",
    "X,Y = df.iloc[:,:-1], df.iloc[:,-1]\n",
    "X = np.hstack([np.ones((n, 1)), X])\n",
    "lin_reg = LinearRegression(fit_intercept=False)\n",
    "lin_reg.fit(X, Y)\n",
    "\n",
    "# Pretty print coefficients\n",
    "\n",
    "# Get the R2 score (1 is perfect, 0 as bad as just using the mean)\n",
    "R2 = lin_reg.score(X, Y)\n",
    "print(f\"R2 = {R2:f}\")\n",
    "X\n",
    "print(lin_reg.coef_)\n",
    "print(lin_reg.intercept_)\n",
    "\n"
   ]
  }
 ],
 "metadata": {
  "kernelspec": {
   "display_name": "Python 3.9.13 64-bit",
   "language": "python",
   "name": "python3"
  },
  "language_info": {
   "codemirror_mode": {
    "name": "ipython",
    "version": 3
   },
   "file_extension": ".py",
   "mimetype": "text/x-python",
   "name": "python",
   "nbconvert_exporter": "python",
   "pygments_lexer": "ipython3",
   "version": "3.9.13"
  },
  "orig_nbformat": 4,
  "vscode": {
   "interpreter": {
    "hash": "b671c20432fcd147198c92e7f072af9e705f087eb990bee22b07f08caab9f630"
   }
  }
 },
 "nbformat": 4,
 "nbformat_minor": 2
}
